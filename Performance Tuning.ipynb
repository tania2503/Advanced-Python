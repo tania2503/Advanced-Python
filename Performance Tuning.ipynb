{
 "cells": [
  {
   "cell_type": "markdown",
   "metadata": {},
   "source": [
    "## Assigment 4: heat equation via linear system solve"
   ]
  },
  {
   "cell_type": "markdown",
   "metadata": {},
   "source": [
    "The heat equation \n",
    "$$\n",
    "\\frac{\\partial^2 f}{\\partial x^2}+\\frac{\\partial^2 f}{\\partial y^2}=0\n",
    "$$\n",
    "can be discretized by central difference as:\n",
    "$$\n",
    "\\frac{\\partial^2 f}{\\partial x^2}\\approx\\frac{f_{i+1,j}-2f_{i,j}+f_{i-1,j}}{\\Delta x^2}.\n",
    "$$\n",
    "$$\n",
    "\\frac{\\partial^2 f}{\\partial y^2}\\approx\\frac{f_{i,j+1}-2f_{i,j}+f_{i,j-1}}{\\Delta y^2}.\n",
    "$$\n",
    "\n",
    "Using this discretization (assuming $\\Delta x = \\Delta y$) we can build a $(n-2)^2\\times (n-2)^2$ matrix $A$ where each row of $A$ correspond to the discretization in a particular point of the domain. For instance, assuming a $5\\times 5$ grid, the discretization in the point $(1,1)$ and $(2,3)$ will be respectivelly:\n",
    "\n",
    "![alt text](grid.png)\n",
    "\n",
    "$$\n",
    "-4f_{1,1}+f_{1,2}+f{2,1}=-(b[0,1]+b[3,1])\n",
    "$$\n",
    "and\n",
    "$$\n",
    "-4f_{2,3}+f_{3,3}+f_{1,3}+f_{2,4}+f_{2,2}=0\n",
    "$$\n",
    "\n",
    "In matrix form $Af=y$:\n",
    "$$\n",
    "    \\left[\\begin{array}{cccccccccccc}\n",
    "    -4 & 1 & 0 & 0 & 1 & \\cdots & 0 & 0 & 0 & 0 & 0 & 0  \\\\\n",
    "    \\vdots \\\\\n",
    "    0 & 0 & 1 & 0 & \\ldots & 1 & -4 & 1 & 0 & \\ldots & 1 & 0 \\\\\n",
    "    \\vdots\n",
    "    \\end{array}\\right]\n",
    "    \\left[\\begin{array}{c} f_{1,1} \\\\  f_{1,2} \\\\ \\vdots \\\\ f_{4,4} \\end{array}\\right]=\n",
    "     \\left[\\begin{array}{c} -(b[0,1]+b[3,1]) \\\\  \\vdots \\\\ 0 \\\\ \\vdots \\\\ -(b[1,4]+b[2,4]) \\end{array}\\right]\n",
    "$$"
   ]
  },
  {
   "cell_type": "markdown",
   "metadata": {},
   "source": [
    "Assuming the heat equation is defined in a square $[0,1]\\times[0,1]$ regular domain, write a code to build the matrix A and vector y such that the solution of:\n",
    "$$\n",
    "Af=y\n",
    "$$\n",
    "gives the values of f in each point of the grid.\n",
    "\n",
    "Essentially you have to fill up the funciton __build_matrix_and_vector(m,b)__ below."
   ]
  },
  {
   "cell_type": "code",
   "execution_count": 1,
   "metadata": {
    "collapsed": true
   },
   "outputs": [],
   "source": [
    "import numpy as np\n",
    "import scipy.sparse as ss\n",
    "import scipy.sparse.linalg as ssl\n",
    "\n",
    "def set_boundary_values(n):\n",
    "    b = np.zeros((4,n))\n",
    "    b[2]=1\n",
    "    b[3]=1\n",
    "    return(b)\n",
    "    \n",
    "def build_matrix_and_vector(m,b):\n",
    "    \n",
    "    M = np.zeros(((m-2)**2,(m-2)**2))\n",
    "    y = np.zeros(((m-2)**2,1))\n",
    "\n",
    "    length = (m-2)**2\n",
    "\n",
    "    for i in range()\n",
    "                \n",
    "            \n",
    "            \n",
    "    #return(M,y)  # not sparce\n",
    "    return(ss.csr_matrix(M),y)\n",
    "            \n",
    "    \n",
    "def solve_heat_equation(n):\n",
    "    b = set_boundary_values(n)\n",
    "    M,y = build_matrix_and_vector(n,b)\n",
    "    #f = np.linalg.solve(M,y)        # not sparse\n",
    "    f = ssl.spsolve(M,y)\n",
    "    G = np.zeros((n,n)) \n",
    "    G[1:n-1,1:n-1]=f.reshape(n-2,n-2) \n",
    "    G[0,:]=b[0]\n",
    "    G[n-1,:]=b[1]\n",
    "    G[:,n-1]=b[2]\n",
    "    G[:,0]=b[3]\n",
    "    return(G)"
   ]
  },
  {
   "cell_type": "code",
   "execution_count": 2,
   "metadata": {},
   "outputs": [
    {
     "name": "stdout",
     "output_type": "stream",
     "text": [
      "55.75357270240784\n"
     ]
    }
   ],
   "source": [
    "import time\n",
    "t0 = time.time()\n",
    "\n",
    "G = solve_heat_equation(100)\n",
    "\n",
    "t1 = time.time()\n",
    "total = t1-t0\n",
    "print (total)"
   ]
  },
  {
   "cell_type": "markdown",
   "metadata": {},
   "source": [
    "Your solution should result in an image like this:\n",
    "\n",
    "![image](solution.png)"
   ]
  },
  {
   "cell_type": "code",
   "execution_count": 3,
   "metadata": {},
   "outputs": [
    {
     "data": {
      "image/png": "[encoded data removed]",
      "text/plain": [
       "<matplotlib.figure.Figure at 0x1436173e2e8>"
      ]
     },
     "metadata": {},
     "output_type": "display_data"
    }
   ],
   "source": [
    "import matplotlib.pyplot as plt\n",
    "\n",
    "img=plt.imshow(G)\n",
    "img.set_cmap('rainbow')\n",
    "plt.axis('off')\n",
    "plt.show()"
   ]
  },
  {
   "cell_type": "markdown",
   "metadata": {},
   "source": [
    "Profile our code and compare it with the code done in class. Is your code quicker? If not, why?\n",
    "\n",
    "Hint: the sparce solver __spsolve__ might be using a much more error threshold."
   ]
  },
  {
   "cell_type": "markdown",
   "metadata": {},
   "source": [
    "Can you implement the function __build_matrix_and_vector__ without using any __if__ statement condition?"
   ]
  },
  {
   "cell_type": "code",
   "execution_count": 4,
   "metadata": {},
   "outputs": [
    {
     "name": "stdout",
     "output_type": "stream",
     "text": [
      " "
     ]
    }
   ],
   "source": [
    "%prun G = solve_heat_equation(100)"
   ]
  },
  {
   "cell_type": "markdown",
   "metadata": {},
   "source": [
    "##### My code is taking much more time than the professor's code because in this code I am travesing each and every element of the matrix and than I am finding the diagonal element after finding the diagnol element I am making the changes in the matrix. This makes the code highly complex the order of complexity is O(m^2) then I am again running 2 loops to compute matrix y. the loop for Matrix M runs for (98)^2*(98)^2"
   ]
  },
  {
   "cell_type": "code",
   "execution_count": null,
   "metadata": {
    "collapsed": true
   },
   "outputs": [],
   "source": []
  }
 ],
 "metadata": {
  "kernelspec": {
   "display_name": "Python 3",
   "language": "python",
   "name": "python3"
  },
  "language_info": {
   "codemirror_mode": {
    "name": "ipython",
    "version": 3
   },
   "file_extension": ".py",
   "mimetype": "text/x-python",
   "name": "python",
   "nbconvert_exporter": "python",
   "pygments_lexer": "ipython3",
   "version": "3.6.3"
  }
 },
 "nbformat": 4,
 "nbformat_minor": 2
}
