{
 "cells": [
  {
   "cell_type": "markdown",
   "metadata": {},
   "source": [
    "# Assignment 5"
   ]
  },
  {
   "cell_type": "markdown",
   "metadata": {},
   "source": [
    "## Part A"
   ]
  },
  {
   "cell_type": "markdown",
   "metadata": {},
   "source": [
    "### In this part I am simply compiling the code using cython without doing any changes like variable declarations etc."
   ]
  },
  {
   "cell_type": "code",
   "execution_count": 101,
   "metadata": {},
   "outputs": [
    {
     "name": "stdout",
     "output_type": "stream",
     "text": [
      "The Cython extension is already loaded. To reload it, use:\n",
      "  %reload_ext Cython\n"
     ]
    }
   ],
   "source": [
    "# using cython (the following code is identical to the previous on)\n",
    "%load_ext Cython"
   ]
  },
  {
   "cell_type": "code",
   "execution_count": 102,
   "metadata": {
    "collapsed": true
   },
   "outputs": [],
   "source": [
    "%%cython\n",
    "import numpy as np\n",
    "\n",
    "import numpy as np\n",
    "import scipy.sparse as ss\n",
    "import scipy.sparse.linalg as ssl\n",
    "from itertools import product\n",
    "\n",
    "\n",
    "def set_boundary_values(n):\n",
    "    b = np.zeros((4,n))\n",
    "    b[2]=1\n",
    "    b[3]=1\n",
    "    return(b)\n",
    "    \n",
    "def build_matrix_and_vector(m,b):\n",
    "    \n",
    "    length = (m-2)**2\n",
    "    f_length = m-2\n",
    "    \n",
    "    M = np.zeros(((m-2)**2,(m-2)**2))\n",
    "    y = np.zeros(((m-2)**2,1))\n",
    "                \n",
    "    for i in range(length):\n",
    "        M[i,i] = -4\n",
    "    \n",
    "    locations = product(range(1, f_length+1), range(1, f_length+1))\n",
    "          \n",
    "    for k in range(length):\n",
    "        for (i, j) in locations:\n",
    "#         for i in range(1,f_length+1):\n",
    "#             for j in range(1,f_length+1):\n",
    "\n",
    "            if j-1 != 0:\n",
    "                M[k, k-1] = 1\n",
    "            else:\n",
    "                y[k,0] -= b[3,i]   \n",
    "\n",
    "            if j+1 != (f_length+1):\n",
    "                M[k, k+1] = 1\n",
    "            else:\n",
    "                y[k,0] -= b[2,i]\n",
    "\n",
    "            if i-1 != 0:\n",
    "                M[k, k - (m-2)] = 1\n",
    "            else:\n",
    "                y[k,0] -= b[0,j]\n",
    "\n",
    "            if i+1 != (f_length+1):\n",
    "                M[k, k + (m-2)] = 1\n",
    "            else:\n",
    "                y[k,0] -= b[1,j]   \n",
    "\n",
    "\n",
    "            break\n",
    "            \n",
    "\n",
    "            \n",
    "    #return(M,y)  # not sparce\n",
    "    return(ss.csr_matrix(M),y)\n",
    "            \n",
    "    \n",
    "def solve_heat_equation1(n):\n",
    "    b = set_boundary_values(n)\n",
    "    M,y = build_matrix_and_vector(n,b)\n",
    "    #f = np.linalg.solve(M,y)        # not sparse\n",
    "    f = ssl.spsolve(M,y)\n",
    "    G = np.zeros((n,n)) \n",
    "    G[1:n-1,1:n-1]=f.reshape(n-2,n-2) \n",
    "    G[0,:]=b[0]\n",
    "    G[n-1,:]=b[1]\n",
    "    G[:,n-1]=b[2]\n",
    "    G[:,0]=b[3]\n",
    "    return(G)"
   ]
  },
  {
   "cell_type": "code",
   "execution_count": 103,
   "metadata": {},
   "outputs": [
    {
     "name": "stdout",
     "output_type": "stream",
     "text": [
      "2.0439743995666504\n"
     ]
    }
   ],
   "source": [
    "import time\n",
    "t0 = time.time()\n",
    "\n",
    "G = solve_heat_equation1(100)\n",
    "\n",
    "t1 = time.time()\n",
    "total = t1-t0\n",
    "print (total)"
   ]
  },
  {
   "cell_type": "code",
   "execution_count": 104,
   "metadata": {},
   "outputs": [
    {
     "data": {
      "image/png": "[encoded data removed]",
      "text/plain": [
       "<matplotlib.figure.Figure at 0x1eb391cb4e0>"
      ]
     },
     "metadata": {},
     "output_type": "display_data"
    }
   ],
   "source": [
    "import matplotlib.pyplot as plt\n",
    "\n",
    "img=plt.imshow(G)\n",
    "img.set_cmap('rainbow')\n",
    "plt.axis('off')\n",
    "plt.show()"
   ]
  },
  {
   "cell_type": "code",
   "execution_count": 105,
   "metadata": {},
   "outputs": [
    {
     "name": "stdout",
     "output_type": "stream",
     "text": [
      " "
     ]
    }
   ],
   "source": [
    "%prun G = solve_heat_equation1(100)"
   ]
  },
  {
   "cell_type": "markdown",
   "metadata": {},
   "source": [
    "## Part B"
   ]
  },
  {
   "cell_type": "markdown",
   "metadata": {},
   "source": [
    "### In this version I have changed the variables and arrays with ctypes using the command cdef. I have made the changes wherever possible and have provided the variable types everywhere possible"
   ]
  },
  {
   "cell_type": "code",
   "execution_count": 106,
   "metadata": {
    "collapsed": true
   },
   "outputs": [],
   "source": [
    "%%cython\n",
    "import numpy as np\n",
    "\n",
    "import numpy as np\n",
    "cimport numpy as np\n",
    "import scipy.sparse as ss\n",
    "import scipy.sparse.linalg as ssl\n",
    "from itertools import product\n",
    "\n",
    "def set_boundary_values(int n):\n",
    "    cdef np.ndarray b = np.zeros((4,n), dtype=float)\n",
    "    \n",
    "    b[2]=1\n",
    "    b[3]=1\n",
    "    return(b)\n",
    "    \n",
    "def build_matrix_and_vector(int m, np.ndarray b):\n",
    "\n",
    "# declaring the variables like we do in C\n",
    "    cdef int length\n",
    "    cdef int f_length\n",
    "    cdef int i\n",
    "    cdef int j\n",
    "    cdef int k\n",
    "\n",
    "#declaring arrays    \n",
    "    cdef np.ndarray M = np.zeros(((m-2)**2,(m-2)**2), dtype=float)\n",
    "    cdef np.ndarray y = np.zeros(((m-2)**2,1), dtype=float)\n",
    "    \n",
    "    \n",
    "    length = (m-2)**2\n",
    "    f_length = m-2\n",
    "    \n",
    "                \n",
    "    for i in range(length):\n",
    "        M[i,i] = -4\n",
    "    \n",
    "    locations = product(range(1, f_length+1), range(1, f_length+1))\n",
    "          \n",
    "    for k in range(length):\n",
    "        for (i, j) in locations:\n",
    "#         for i in range(1,f_length+1):\n",
    "#             for j in range(1,f_length+1):\n",
    "\n",
    "            if j-1 != 0:\n",
    "                M[k, k-1] = 1\n",
    "            else:\n",
    "                y[k,0] -= b[3,i]   \n",
    "\n",
    "            if j+1 != (f_length+1):\n",
    "                M[k, k+1] = 1\n",
    "            else:\n",
    "                y[k,0] -= b[2,i]\n",
    "\n",
    "            if i-1 != 0:\n",
    "                M[k, k - (m-2)] = 1\n",
    "            else:\n",
    "                y[k,0] -= b[0,j]\n",
    "\n",
    "            if i+1 != (f_length+1):\n",
    "                M[k, k + (m-2)] = 1\n",
    "            else:\n",
    "                y[k,0] -= b[1,j]   \n",
    "\n",
    "\n",
    "            break\n",
    "\n",
    "\n",
    "            \n",
    "    #return(M,y)  # not sparce\n",
    "    return(ss.csr_matrix(M),y)\n",
    "            \n",
    "    \n",
    "def solve_heat_equation2(int n):\n",
    "    \n",
    "    cdef np.ndarray b = set_boundary_values(n)\n",
    "    \n",
    "    \n",
    "    \n",
    "    M,y = build_matrix_and_vector(n,b)\n",
    "    #f = np.linalg.solve(M,y)        # not sparse\n",
    "    cdef np.ndarray f = ssl.spsolve(M,y)\n",
    "    cdef np.ndarray G = np.zeros([n,n], dtype = float) \n",
    "    \n",
    "    G[1:n-1,1:n-1]=f.reshape(n-2,n-2) \n",
    "    G[0,:]=b[0]\n",
    "    G[n-1,:]=b[1]\n",
    "    G[:,n-1]=b[2]\n",
    "    G[:,0]=b[3]\n",
    "    return(G)"
   ]
  },
  {
   "cell_type": "code",
   "execution_count": 107,
   "metadata": {},
   "outputs": [
    {
     "name": "stdout",
     "output_type": "stream",
     "text": [
      "2.048640251159668\n"
     ]
    }
   ],
   "source": [
    "import time\n",
    "t0 = time.time()\n",
    "\n",
    "G = solve_heat_equation2(100)\n",
    "\n",
    "t1 = time.time()\n",
    "total = t1-t0\n",
    "print (total)"
   ]
  },
  {
   "cell_type": "code",
   "execution_count": 108,
   "metadata": {},
   "outputs": [
    {
     "data": {
      "image/png": "[encoded data removed]",
      "text/plain": [
       "<matplotlib.figure.Figure at 0x1eb38d19a20>"
      ]
     },
     "metadata": {},
     "output_type": "display_data"
    }
   ],
   "source": [
    "import matplotlib.pyplot as plt\n",
    "\n",
    "img=plt.imshow(G)\n",
    "img.set_cmap('rainbow')\n",
    "plt.axis('off')\n",
    "plt.show()"
   ]
  },
  {
   "cell_type": "code",
   "execution_count": 109,
   "metadata": {},
   "outputs": [
    {
     "name": "stdout",
     "output_type": "stream",
     "text": [
      " "
     ]
    }
   ],
   "source": [
    "%prun G = solve_heat_equation2(100)"
   ]
  },
  {
   "cell_type": "markdown",
   "metadata": {},
   "source": [
    "## Part C"
   ]
  },
  {
   "cell_type": "markdown",
   "metadata": {},
   "source": [
    "### In this part I have given the content of ndarray objects so that I can effeiciently access the data buffer of the arrays"
   ]
  },
  {
   "cell_type": "code",
   "execution_count": 110,
   "metadata": {
    "collapsed": true
   },
   "outputs": [],
   "source": [
    "%%cython\n",
    "import numpy as np\n",
    "import numpy as np\n",
    "cimport numpy as np\n",
    "import scipy.sparse as ss\n",
    "import scipy.sparse.linalg as ssl\n",
    "from itertools import product\n",
    "\n",
    "\n",
    "def set_boundary_values(int n):   #declaring varible type in function defination\n",
    "    cdef np.ndarray[double, ndim=2] b = np.zeros((4,n), dtype=float)\n",
    "    \n",
    "    b[2]=1\n",
    "    b[3]=1\n",
    "    return(b)\n",
    "    \n",
    "def build_matrix_and_vector(int m, np.ndarray b):\n",
    "    \n",
    "#declaring varibles and there type like we do in C\n",
    "    cdef int length\n",
    "    cdef int f_length\n",
    "    cdef int i\n",
    "    cdef int j\n",
    "    cdef int k\n",
    "\n",
    "# Typing the content of ndarray objects to make the code run more effieciently\n",
    "    cdef np.ndarray[double, ndim=2] M = np.zeros(((m-2)**2,(m-2)**2), dtype=float)\n",
    "    cdef np.ndarray[double, ndim=2] y = np.zeros(((m-2)**2,1), dtype=float)\n",
    "    \n",
    "    \n",
    "    length = (m-2)**2\n",
    "    f_length = m-2\n",
    "    \n",
    "                \n",
    "    for i in range(length):\n",
    "        M[i,i] = -4\n",
    "    \n",
    "    locations = product(range(1, f_length+1), range(1, f_length+1))\n",
    "          \n",
    "    for k in range(length):\n",
    "        for (i, j) in locations:\n",
    "#         for i in range(1,f_length+1):\n",
    "#             for j in range(1,f_length+1):\n",
    "\n",
    "            if j-1 != 0:\n",
    "                M[k, k-1] = 1\n",
    "            else:\n",
    "                y[k,0] -= b[3,i]   \n",
    "\n",
    "            if j+1 != (f_length+1):\n",
    "                M[k, k+1] = 1\n",
    "            else:\n",
    "                y[k,0] -= b[2,i]\n",
    "\n",
    "            if i-1 != 0:\n",
    "                M[k, k - (m-2)] = 1\n",
    "            else:\n",
    "                y[k,0] -= b[0,j]\n",
    "\n",
    "            if i+1 != (f_length+1):\n",
    "                M[k, k + (m-2)] = 1\n",
    "            else:\n",
    "                y[k,0] -= b[1,j]   \n",
    "\n",
    "\n",
    "            break\n",
    "\n",
    "\n",
    "            \n",
    "    #return(M,y)  # not sparce\n",
    "    return(ss.csr_matrix(M),y)\n",
    "            \n",
    "    \n",
    "def solve_heat_equation3(int n):\n",
    "\n",
    "# Typing the content of ndarray objects to make the code run more effieciently\n",
    "\n",
    "    cdef np.ndarray[double, ndim=2] b = set_boundary_values(n)\n",
    "    \n",
    "    \n",
    "    \n",
    "    M,y = build_matrix_and_vector(n,b)\n",
    "    #f = np.linalg.solve(M,y)        # not sparse\n",
    "\n",
    "# Typing the content of ndarray objects to make the code run more effieciently    \n",
    "    \n",
    "    cdef np.ndarray[double, ndim=1] f = ssl.spsolve(M,y)\n",
    "    cdef np.ndarray[double, ndim=2] G = np.zeros([n,n], dtype = float) \n",
    "    \n",
    "    G[1:n-1,1:n-1]=f.reshape(n-2,n-2) \n",
    "    G[0,:]=b[0]\n",
    "    G[n-1,:]=b[1]\n",
    "    G[:,n-1]=b[2]\n",
    "    G[:,0]=b[3]\n",
    "    return(G)"
   ]
  },
  {
   "cell_type": "code",
   "execution_count": 111,
   "metadata": {},
   "outputs": [
    {
     "name": "stdout",
     "output_type": "stream",
     "text": [
      "2.023729085922241\n"
     ]
    }
   ],
   "source": [
    "import time\n",
    "t0 = time.time()\n",
    "\n",
    "G = solve_heat_equation3(100)\n",
    "\n",
    "t1 = time.time()\n",
    "total = t1-t0\n",
    "print (total)"
   ]
  },
  {
   "cell_type": "code",
   "execution_count": 112,
   "metadata": {},
   "outputs": [
    {
     "data": {
      "image/png": "[encoded data removed]",
      "text/plain": [
       "<matplotlib.figure.Figure at 0x1eb3896d630>"
      ]
     },
     "metadata": {},
     "output_type": "display_data"
    }
   ],
   "source": [
    "import matplotlib.pyplot as plt\n",
    "\n",
    "img=plt.imshow(G)\n",
    "img.set_cmap('rainbow')\n",
    "plt.axis('off')\n",
    "plt.show()"
   ]
  },
  {
   "cell_type": "code",
   "execution_count": 113,
   "metadata": {},
   "outputs": [
    {
     "name": "stdout",
     "output_type": "stream",
     "text": [
      " "
     ]
    }
   ],
   "source": [
    "%prun G = solve_heat_equation3(100)"
   ]
  },
  {
   "cell_type": "code",
   "execution_count": null,
   "metadata": {
    "collapsed": true
   },
   "outputs": [],
   "source": []
  },
  {
   "cell_type": "code",
   "execution_count": null,
   "metadata": {
    "collapsed": true
   },
   "outputs": [],
   "source": []
  }
 ],
 "metadata": {
  "kernelspec": {
   "display_name": "Python 3",
   "language": "python",
   "name": "python3"
  },
  "language_info": {
   "codemirror_mode": {
    "name": "ipython",
    "version": 3
   },
   "file_extension": ".py",
   "mimetype": "text/x-python",
   "name": "python",
   "nbconvert_exporter": "python",
   "pygments_lexer": "ipython3",
   "version": "3.6.3"
  }
 },
 "nbformat": 4,
 "nbformat_minor": 2
}
